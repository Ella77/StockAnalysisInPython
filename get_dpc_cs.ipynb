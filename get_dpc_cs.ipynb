{
  "nbformat": 4,
  "nbformat_minor": 0,
  "metadata": {
    "colab": {
      "name": "get_dpc_cs.ipynb",
      "provenance": []
    },
    "kernelspec": {
      "name": "python3",
      "display_name": "Python 3"
    }
  },
  "cells": [
    {
      "cell_type": "code",
      "metadata": {
        "colab": {
          "base_uri": "https://localhost:8080/"
        },
        "id": "b7AWooS4mrxz",
        "outputId": "e7c3308e-66d2-4b13-98fe-9942db054e22"
      },
      "source": [
        "!pip install yfinance\n",
        "!pip install pandas-datareader"
      ],
      "execution_count": 1,
      "outputs": [
        {
          "output_type": "stream",
          "text": [
            "Requirement already satisfied: yfinance in /usr/local/lib/python3.6/dist-packages (0.1.55)\n",
            "Requirement already satisfied: multitasking>=0.0.7 in /usr/local/lib/python3.6/dist-packages (from yfinance) (0.0.9)\n",
            "Requirement already satisfied: numpy>=1.15 in /usr/local/lib/python3.6/dist-packages (from yfinance) (1.19.4)\n",
            "Requirement already satisfied: pandas>=0.24 in /usr/local/lib/python3.6/dist-packages (from yfinance) (1.1.5)\n",
            "Requirement already satisfied: requests>=2.20 in /usr/local/lib/python3.6/dist-packages (from yfinance) (2.23.0)\n",
            "Requirement already satisfied: lxml>=4.5.1 in /usr/local/lib/python3.6/dist-packages (from yfinance) (4.6.2)\n",
            "Requirement already satisfied: pytz>=2017.2 in /usr/local/lib/python3.6/dist-packages (from pandas>=0.24->yfinance) (2018.9)\n",
            "Requirement already satisfied: python-dateutil>=2.7.3 in /usr/local/lib/python3.6/dist-packages (from pandas>=0.24->yfinance) (2.8.1)\n",
            "Requirement already satisfied: urllib3!=1.25.0,!=1.25.1,<1.26,>=1.21.1 in /usr/local/lib/python3.6/dist-packages (from requests>=2.20->yfinance) (1.24.3)\n",
            "Requirement already satisfied: chardet<4,>=3.0.2 in /usr/local/lib/python3.6/dist-packages (from requests>=2.20->yfinance) (3.0.4)\n",
            "Requirement already satisfied: certifi>=2017.4.17 in /usr/local/lib/python3.6/dist-packages (from requests>=2.20->yfinance) (2020.12.5)\n",
            "Requirement already satisfied: idna<3,>=2.5 in /usr/local/lib/python3.6/dist-packages (from requests>=2.20->yfinance) (2.10)\n",
            "Requirement already satisfied: six>=1.5 in /usr/local/lib/python3.6/dist-packages (from python-dateutil>=2.7.3->pandas>=0.24->yfinance) (1.15.0)\n",
            "Requirement already satisfied: pandas-datareader in /usr/local/lib/python3.6/dist-packages (0.9.0)\n",
            "Requirement already satisfied: lxml in /usr/local/lib/python3.6/dist-packages (from pandas-datareader) (4.6.2)\n",
            "Requirement already satisfied: requests>=2.19.0 in /usr/local/lib/python3.6/dist-packages (from pandas-datareader) (2.23.0)\n",
            "Requirement already satisfied: pandas>=0.23 in /usr/local/lib/python3.6/dist-packages (from pandas-datareader) (1.1.5)\n",
            "Requirement already satisfied: urllib3!=1.25.0,!=1.25.1,<1.26,>=1.21.1 in /usr/local/lib/python3.6/dist-packages (from requests>=2.19.0->pandas-datareader) (1.24.3)\n",
            "Requirement already satisfied: idna<3,>=2.5 in /usr/local/lib/python3.6/dist-packages (from requests>=2.19.0->pandas-datareader) (2.10)\n",
            "Requirement already satisfied: certifi>=2017.4.17 in /usr/local/lib/python3.6/dist-packages (from requests>=2.19.0->pandas-datareader) (2020.12.5)\n",
            "Requirement already satisfied: chardet<4,>=3.0.2 in /usr/local/lib/python3.6/dist-packages (from requests>=2.19.0->pandas-datareader) (3.0.4)\n",
            "Requirement already satisfied: pytz>=2017.2 in /usr/local/lib/python3.6/dist-packages (from pandas>=0.23->pandas-datareader) (2018.9)\n",
            "Requirement already satisfied: python-dateutil>=2.7.3 in /usr/local/lib/python3.6/dist-packages (from pandas>=0.23->pandas-datareader) (2.8.1)\n",
            "Requirement already satisfied: numpy>=1.15.4 in /usr/local/lib/python3.6/dist-packages (from pandas>=0.23->pandas-datareader) (1.19.4)\n",
            "Requirement already satisfied: six>=1.5 in /usr/local/lib/python3.6/dist-packages (from python-dateutil>=2.7.3->pandas>=0.23->pandas-datareader) (1.15.0)\n"
          ],
          "name": "stdout"
        }
      ]
    },
    {
      "cell_type": "code",
      "metadata": {
        "colab": {
          "base_uri": "https://localhost:8080/"
        },
        "id": "53tacCpRmxFJ",
        "outputId": "f13ea5dd-2ace-4170-fab4-c46f4c39c42f"
      },
      "source": [
        "from pandas_datareader import data as pdr\n",
        "import yfinance as yf\n",
        "\n",
        "yf.pdr_override()\n",
        "sec = pdr.get_data_yahoo('005930.KS',start='2018-05-04')\n",
        "msft = pdr.get_data_yahoo('MSFT', start='2018-05-04')"
      ],
      "execution_count": 2,
      "outputs": [
        {
          "output_type": "stream",
          "text": [
            "[*********************100%***********************]  1 of 1 completed\n",
            "[*********************100%***********************]  1 of 1 completed\n"
          ],
          "name": "stdout"
        }
      ]
    },
    {
      "cell_type": "code",
      "metadata": {
        "colab": {
          "base_uri": "https://localhost:8080/",
          "height": 231
        },
        "id": "_KWTxjxOnT8_",
        "outputId": "905d8b53-3c56-4e66-90a5-3a6b19d9a718"
      },
      "source": [
        "sec.head()"
      ],
      "execution_count": null,
      "outputs": [
        {
          "output_type": "execute_result",
          "data": {
            "text/html": [
              "<div>\n",
              "<style scoped>\n",
              "    .dataframe tbody tr th:only-of-type {\n",
              "        vertical-align: middle;\n",
              "    }\n",
              "\n",
              "    .dataframe tbody tr th {\n",
              "        vertical-align: top;\n",
              "    }\n",
              "\n",
              "    .dataframe thead th {\n",
              "        text-align: right;\n",
              "    }\n",
              "</style>\n",
              "<table border=\"1\" class=\"dataframe\">\n",
              "  <thead>\n",
              "    <tr style=\"text-align: right;\">\n",
              "      <th></th>\n",
              "      <th>Open</th>\n",
              "      <th>High</th>\n",
              "      <th>Low</th>\n",
              "      <th>Close</th>\n",
              "      <th>Adj Close</th>\n",
              "      <th>Volume</th>\n",
              "    </tr>\n",
              "    <tr>\n",
              "      <th>Date</th>\n",
              "      <th></th>\n",
              "      <th></th>\n",
              "      <th></th>\n",
              "      <th></th>\n",
              "      <th></th>\n",
              "      <th></th>\n",
              "    </tr>\n",
              "  </thead>\n",
              "  <tbody>\n",
              "    <tr>\n",
              "      <th>2018-05-04</th>\n",
              "      <td>53000.0</td>\n",
              "      <td>53900.0</td>\n",
              "      <td>51800.0</td>\n",
              "      <td>51900.0</td>\n",
              "      <td>50660.105469</td>\n",
              "      <td>39565391</td>\n",
              "    </tr>\n",
              "    <tr>\n",
              "      <th>2018-05-08</th>\n",
              "      <td>52600.0</td>\n",
              "      <td>53200.0</td>\n",
              "      <td>51900.0</td>\n",
              "      <td>52600.0</td>\n",
              "      <td>51343.382812</td>\n",
              "      <td>23104720</td>\n",
              "    </tr>\n",
              "    <tr>\n",
              "      <th>2018-05-09</th>\n",
              "      <td>52600.0</td>\n",
              "      <td>52800.0</td>\n",
              "      <td>50900.0</td>\n",
              "      <td>50900.0</td>\n",
              "      <td>49683.992188</td>\n",
              "      <td>16128305</td>\n",
              "    </tr>\n",
              "    <tr>\n",
              "      <th>2018-05-10</th>\n",
              "      <td>51700.0</td>\n",
              "      <td>51700.0</td>\n",
              "      <td>50600.0</td>\n",
              "      <td>51600.0</td>\n",
              "      <td>50367.269531</td>\n",
              "      <td>13905263</td>\n",
              "    </tr>\n",
              "    <tr>\n",
              "      <th>2018-05-11</th>\n",
              "      <td>52000.0</td>\n",
              "      <td>52200.0</td>\n",
              "      <td>51200.0</td>\n",
              "      <td>51300.0</td>\n",
              "      <td>50074.437500</td>\n",
              "      <td>10314997</td>\n",
              "    </tr>\n",
              "  </tbody>\n",
              "</table>\n",
              "</div>"
            ],
            "text/plain": [
              "               Open     High      Low    Close     Adj Close    Volume\n",
              "Date                                                                  \n",
              "2018-05-04  53000.0  53900.0  51800.0  51900.0  50660.105469  39565391\n",
              "2018-05-08  52600.0  53200.0  51900.0  52600.0  51343.382812  23104720\n",
              "2018-05-09  52600.0  52800.0  50900.0  50900.0  49683.992188  16128305\n",
              "2018-05-10  51700.0  51700.0  50600.0  51600.0  50367.269531  13905263\n",
              "2018-05-11  52000.0  52200.0  51200.0  51300.0  50074.437500  10314997"
            ]
          },
          "metadata": {
            "tags": []
          },
          "execution_count": 6
        }
      ]
    },
    {
      "cell_type": "code",
      "metadata": {
        "colab": {
          "base_uri": "https://localhost:8080/",
          "height": 231
        },
        "id": "lrgFQci9n8G5",
        "outputId": "18c168ee-251d-4454-a2f7-d9b55cfa6c45"
      },
      "source": [
        "msft.head()"
      ],
      "execution_count": null,
      "outputs": [
        {
          "output_type": "execute_result",
          "data": {
            "text/html": [
              "<div>\n",
              "<style scoped>\n",
              "    .dataframe tbody tr th:only-of-type {\n",
              "        vertical-align: middle;\n",
              "    }\n",
              "\n",
              "    .dataframe tbody tr th {\n",
              "        vertical-align: top;\n",
              "    }\n",
              "\n",
              "    .dataframe thead th {\n",
              "        text-align: right;\n",
              "    }\n",
              "</style>\n",
              "<table border=\"1\" class=\"dataframe\">\n",
              "  <thead>\n",
              "    <tr style=\"text-align: right;\">\n",
              "      <th></th>\n",
              "      <th>Open</th>\n",
              "      <th>High</th>\n",
              "      <th>Low</th>\n",
              "      <th>Close</th>\n",
              "      <th>Adj Close</th>\n",
              "      <th>Volume</th>\n",
              "    </tr>\n",
              "    <tr>\n",
              "      <th>Date</th>\n",
              "      <th></th>\n",
              "      <th></th>\n",
              "      <th></th>\n",
              "      <th></th>\n",
              "      <th></th>\n",
              "      <th></th>\n",
              "    </tr>\n",
              "  </thead>\n",
              "  <tbody>\n",
              "    <tr>\n",
              "      <th>2018-05-04</th>\n",
              "      <td>93.320000</td>\n",
              "      <td>95.370003</td>\n",
              "      <td>92.919998</td>\n",
              "      <td>95.160004</td>\n",
              "      <td>91.639946</td>\n",
              "      <td>22531300</td>\n",
              "    </tr>\n",
              "    <tr>\n",
              "      <th>2018-05-07</th>\n",
              "      <td>95.169998</td>\n",
              "      <td>96.709999</td>\n",
              "      <td>95.099998</td>\n",
              "      <td>96.220001</td>\n",
              "      <td>92.660728</td>\n",
              "      <td>24242000</td>\n",
              "    </tr>\n",
              "    <tr>\n",
              "      <th>2018-05-08</th>\n",
              "      <td>95.849998</td>\n",
              "      <td>96.160004</td>\n",
              "      <td>95.059998</td>\n",
              "      <td>95.809998</td>\n",
              "      <td>92.265900</td>\n",
              "      <td>23484600</td>\n",
              "    </tr>\n",
              "    <tr>\n",
              "      <th>2018-05-09</th>\n",
              "      <td>96.010002</td>\n",
              "      <td>96.970001</td>\n",
              "      <td>95.050003</td>\n",
              "      <td>96.940002</td>\n",
              "      <td>93.354095</td>\n",
              "      <td>27327400</td>\n",
              "    </tr>\n",
              "    <tr>\n",
              "      <th>2018-05-10</th>\n",
              "      <td>97.459999</td>\n",
              "      <td>97.949997</td>\n",
              "      <td>97.050003</td>\n",
              "      <td>97.910004</td>\n",
              "      <td>94.288223</td>\n",
              "      <td>22388100</td>\n",
              "    </tr>\n",
              "  </tbody>\n",
              "</table>\n",
              "</div>"
            ],
            "text/plain": [
              "                 Open       High        Low      Close  Adj Close    Volume\n",
              "Date                                                                       \n",
              "2018-05-04  93.320000  95.370003  92.919998  95.160004  91.639946  22531300\n",
              "2018-05-07  95.169998  96.709999  95.099998  96.220001  92.660728  24242000\n",
              "2018-05-08  95.849998  96.160004  95.059998  95.809998  92.265900  23484600\n",
              "2018-05-09  96.010002  96.970001  95.050003  96.940002  93.354095  27327400\n",
              "2018-05-10  97.459999  97.949997  97.050003  97.910004  94.288223  22388100"
            ]
          },
          "metadata": {
            "tags": []
          },
          "execution_count": 7
        }
      ]
    },
    {
      "cell_type": "code",
      "metadata": {
        "id": "V50ZO6Gvn8vB"
      },
      "source": [
        "tmp_msft = msft.drop(columns='Volume')"
      ],
      "execution_count": null,
      "outputs": []
    },
    {
      "cell_type": "code",
      "metadata": {
        "colab": {
          "base_uri": "https://localhost:8080/",
          "height": 231
        },
        "id": "HzAagRG8oEQo",
        "outputId": "2f6409dd-7fef-45f2-9e95-4d04ca0184fb"
      },
      "source": [
        "tmp_msft.tail()"
      ],
      "execution_count": null,
      "outputs": [
        {
          "output_type": "execute_result",
          "data": {
            "text/html": [
              "<div>\n",
              "<style scoped>\n",
              "    .dataframe tbody tr th:only-of-type {\n",
              "        vertical-align: middle;\n",
              "    }\n",
              "\n",
              "    .dataframe tbody tr th {\n",
              "        vertical-align: top;\n",
              "    }\n",
              "\n",
              "    .dataframe thead th {\n",
              "        text-align: right;\n",
              "    }\n",
              "</style>\n",
              "<table border=\"1\" class=\"dataframe\">\n",
              "  <thead>\n",
              "    <tr style=\"text-align: right;\">\n",
              "      <th></th>\n",
              "      <th>Open</th>\n",
              "      <th>High</th>\n",
              "      <th>Low</th>\n",
              "      <th>Close</th>\n",
              "      <th>Adj Close</th>\n",
              "    </tr>\n",
              "    <tr>\n",
              "      <th>Date</th>\n",
              "      <th></th>\n",
              "      <th></th>\n",
              "      <th></th>\n",
              "      <th></th>\n",
              "      <th></th>\n",
              "    </tr>\n",
              "  </thead>\n",
              "  <tbody>\n",
              "    <tr>\n",
              "      <th>2021-01-04</th>\n",
              "      <td>222.529999</td>\n",
              "      <td>223.000000</td>\n",
              "      <td>214.809998</td>\n",
              "      <td>217.690002</td>\n",
              "      <td>217.690002</td>\n",
              "    </tr>\n",
              "    <tr>\n",
              "      <th>2021-01-05</th>\n",
              "      <td>217.259995</td>\n",
              "      <td>218.520004</td>\n",
              "      <td>215.699997</td>\n",
              "      <td>217.899994</td>\n",
              "      <td>217.899994</td>\n",
              "    </tr>\n",
              "    <tr>\n",
              "      <th>2021-01-06</th>\n",
              "      <td>212.169998</td>\n",
              "      <td>216.490005</td>\n",
              "      <td>211.940002</td>\n",
              "      <td>212.250000</td>\n",
              "      <td>212.250000</td>\n",
              "    </tr>\n",
              "    <tr>\n",
              "      <th>2021-01-07</th>\n",
              "      <td>214.039993</td>\n",
              "      <td>219.339996</td>\n",
              "      <td>213.710007</td>\n",
              "      <td>218.289993</td>\n",
              "      <td>218.289993</td>\n",
              "    </tr>\n",
              "    <tr>\n",
              "      <th>2021-01-08</th>\n",
              "      <td>218.679993</td>\n",
              "      <td>220.580002</td>\n",
              "      <td>217.029999</td>\n",
              "      <td>219.619995</td>\n",
              "      <td>219.619995</td>\n",
              "    </tr>\n",
              "  </tbody>\n",
              "</table>\n",
              "</div>"
            ],
            "text/plain": [
              "                  Open        High         Low       Close   Adj Close\n",
              "Date                                                                  \n",
              "2021-01-04  222.529999  223.000000  214.809998  217.690002  217.690002\n",
              "2021-01-05  217.259995  218.520004  215.699997  217.899994  217.899994\n",
              "2021-01-06  212.169998  216.490005  211.940002  212.250000  212.250000\n",
              "2021-01-07  214.039993  219.339996  213.710007  218.289993  218.289993\n",
              "2021-01-08  218.679993  220.580002  217.029999  219.619995  219.619995"
            ]
          },
          "metadata": {
            "tags": []
          },
          "execution_count": 9
        }
      ]
    },
    {
      "cell_type": "code",
      "metadata": {
        "colab": {
          "base_uri": "https://localhost:8080/"
        },
        "id": "LRQezEIhoFbP",
        "outputId": "b9422838-fbee-419e-b12d-8fec43fb8030"
      },
      "source": [
        "sec.index\n"
      ],
      "execution_count": null,
      "outputs": [
        {
          "output_type": "execute_result",
          "data": {
            "text/plain": [
              "DatetimeIndex(['2018-05-04', '2018-05-08', '2018-05-09', '2018-05-10',\n",
              "               '2018-05-11', '2018-05-14', '2018-05-15', '2018-05-16',\n",
              "               '2018-05-17', '2018-05-18',\n",
              "               ...\n",
              "               '2020-12-23', '2020-12-24', '2020-12-28', '2020-12-29',\n",
              "               '2020-12-30', '2021-01-04', '2021-01-05', '2021-01-06',\n",
              "               '2021-01-07', '2021-01-08'],\n",
              "              dtype='datetime64[ns]', name='Date', length=657, freq=None)"
            ]
          },
          "metadata": {
            "tags": []
          },
          "execution_count": 11
        }
      ]
    },
    {
      "cell_type": "code",
      "metadata": {
        "colab": {
          "base_uri": "https://localhost:8080/"
        },
        "id": "sqNlVevVoKxg",
        "outputId": "4145fe91-cd75-4fca-90b2-e6ba87193995"
      },
      "source": [
        "sec.columns"
      ],
      "execution_count": null,
      "outputs": [
        {
          "output_type": "execute_result",
          "data": {
            "text/plain": [
              "Index(['Open', 'High', 'Low', 'Close', 'Adj Close', 'Volume'], dtype='object')"
            ]
          },
          "metadata": {
            "tags": []
          },
          "execution_count": 12
        }
      ]
    },
    {
      "cell_type": "code",
      "metadata": {
        "id": "VPpGOsTEoNai"
      },
      "source": [
        "yf.pdr_override()"
      ],
      "execution_count": null,
      "outputs": []
    },
    {
      "cell_type": "code",
      "metadata": {
        "colab": {
          "base_uri": "https://localhost:8080/",
          "height": 263
        },
        "id": "5bcD07KloRtz",
        "outputId": "18d2028f-c9c6-4bf8-8a9c-42befa04bc7e"
      },
      "source": [
        "import matplotlib.pyplot as plt\n",
        "plt.plot(sec.index,sec.Close,'b', label = 'Samsung Electronis')\n",
        "plt.plot(msft.index,msft.Close, 'r--', label='Microsoft')\n",
        "plt.legend(loc='best')\n",
        "plt.show()"
      ],
      "execution_count": null,
      "outputs": [
        {
          "output_type": "display_data",
          "data": {
            "image/png": "[encoded data removed]",
            "text/plain": [
              "<Figure size 432x288 with 1 Axes>"
            ]
          },
          "metadata": {
            "tags": [],
            "needs_background": "light"
          }
        }
      ]
    },
    {
      "cell_type": "code",
      "metadata": {
        "colab": {
          "base_uri": "https://localhost:8080/"
        },
        "id": "ITHt_5ybomfj",
        "outputId": "f4f9e9fa-32e6-45f7-f2c1-f227eb7203ac"
      },
      "source": [
        "type(sec['Close'])"
      ],
      "execution_count": null,
      "outputs": [
        {
          "output_type": "execute_result",
          "data": {
            "text/plain": [
              "pandas.core.series.Series"
            ]
          },
          "metadata": {
            "tags": []
          },
          "execution_count": 16
        }
      ]
    },
    {
      "cell_type": "code",
      "metadata": {
        "colab": {
          "base_uri": "https://localhost:8080/"
        },
        "id": "cBb-Q41eovAe",
        "outputId": "2c92bada-cf26-477d-ec7f-3942b41335df"
      },
      "source": [
        "sec['Close'].shift(1)"
      ],
      "execution_count": null,
      "outputs": [
        {
          "output_type": "execute_result",
          "data": {
            "text/plain": [
              "Date\n",
              "2018-05-04        NaN\n",
              "2018-05-08    51900.0\n",
              "2018-05-09    52600.0\n",
              "2018-05-10    50900.0\n",
              "2018-05-11    51600.0\n",
              "               ...   \n",
              "2021-01-04    81000.0\n",
              "2021-01-05    83000.0\n",
              "2021-01-06    83900.0\n",
              "2021-01-07    82200.0\n",
              "2021-01-08    82900.0\n",
              "Name: Close, Length: 657, dtype: float64"
            ]
          },
          "metadata": {
            "tags": []
          },
          "execution_count": 17
        }
      ]
    },
    {
      "cell_type": "code",
      "metadata": {
        "colab": {
          "base_uri": "https://localhost:8080/"
        },
        "id": "GPP2oPwEo4qY",
        "outputId": "9612be61-7e74-47c7-ec27-a9658a99d28e"
      },
      "source": [
        "sec_dpc =(sec['Close']/sec['Close'].shift(1)-1)*100\n",
        "sec_dpc"
      ],
      "execution_count": null,
      "outputs": [
        {
          "output_type": "execute_result",
          "data": {
            "text/plain": [
              "Date\n",
              "2018-05-04         NaN\n",
              "2018-05-08    1.348748\n",
              "2018-05-09   -3.231939\n",
              "2018-05-10    1.375246\n",
              "2018-05-11   -0.581395\n",
              "                ...   \n",
              "2021-01-04    2.469136\n",
              "2021-01-05    1.084337\n",
              "2021-01-06   -2.026222\n",
              "2021-01-07    0.851582\n",
              "2021-01-08    7.117008\n",
              "Name: Close, Length: 657, dtype: float64"
            ]
          },
          "metadata": {
            "tags": []
          },
          "execution_count": 20
        }
      ]
    },
    {
      "cell_type": "code",
      "metadata": {
        "colab": {
          "base_uri": "https://localhost:8080/"
        },
        "id": "tQLBo7yUo9PA",
        "outputId": "04e780af-60bd-4d5e-b83d-0f9f954c7af8"
      },
      "source": [
        "sec_dpc.iloc[0]=0\n",
        "sec_dpc.head()"
      ],
      "execution_count": null,
      "outputs": [
        {
          "output_type": "execute_result",
          "data": {
            "text/plain": [
              "Date\n",
              "2018-05-04    0.000000\n",
              "2018-05-08    1.348748\n",
              "2018-05-09   -3.231939\n",
              "2018-05-10    1.375246\n",
              "2018-05-11   -0.581395\n",
              "Name: Close, dtype: float64"
            ]
          },
          "metadata": {
            "tags": []
          },
          "execution_count": 21
        }
      ]
    },
    {
      "cell_type": "code",
      "metadata": {
        "colab": {
          "base_uri": "https://localhost:8080/",
          "height": 265
        },
        "id": "v0TYXH8Jph_q",
        "outputId": "4b851e66-a52e-4148-dd29-033287650fda"
      },
      "source": [
        "plt.hist(sec_dpc,bins=18)\n",
        "plt.grid(True)\n",
        "plt.show()"
      ],
      "execution_count": null,
      "outputs": [
        {
          "output_type": "display_data",
          "data": {
            "image/png": "[encoded data removed]",
            "text/plain": [
              "<Figure size 432x288 with 1 Axes>"
            ]
          },
          "metadata": {
            "tags": [],
            "needs_background": "light"
          }
        }
      ]
    },
    {
      "cell_type": "code",
      "metadata": {
        "colab": {
          "base_uri": "https://localhost:8080/"
        },
        "id": "7Rr3Y9fWpvZz",
        "outputId": "bf894b36-d1d5-49e2-8a08-0fc534413148"
      },
      "source": [
        "sec_dpc.describe()"
      ],
      "execution_count": null,
      "outputs": [
        {
          "output_type": "execute_result",
          "data": {
            "text/plain": [
              "count    657.000000\n",
              "mean       0.097480\n",
              "std        1.777825\n",
              "min       -6.387665\n",
              "25%       -0.992063\n",
              "50%        0.107181\n",
              "75%        1.063830\n",
              "max       10.470588\n",
              "Name: Close, dtype: float64"
            ]
          },
          "metadata": {
            "tags": []
          },
          "execution_count": 23
        }
      ]
    },
    {
      "cell_type": "code",
      "metadata": {
        "id": "pvlRvF0_p3GF"
      },
      "source": [
        "sec_dpc_cs = sec_dpc.cumsum()"
      ],
      "execution_count": null,
      "outputs": []
    },
    {
      "cell_type": "code",
      "metadata": {
        "colab": {
          "base_uri": "https://localhost:8080/"
        },
        "id": "YMBtVeVup_DJ",
        "outputId": "fc08f16c-e65f-4182-fade-4224b16385b2"
      },
      "source": [
        "sec_dpc_cs"
      ],
      "execution_count": null,
      "outputs": [
        {
          "output_type": "execute_result",
          "data": {
            "text/plain": [
              "Date\n",
              "2018-05-04     0.000000\n",
              "2018-05-08     1.348748\n",
              "2018-05-09    -1.883192\n",
              "2018-05-10    -0.507946\n",
              "2018-05-11    -1.089341\n",
              "                ...    \n",
              "2021-01-04    57.017436\n",
              "2021-01-05    58.101773\n",
              "2021-01-06    56.075552\n",
              "2021-01-07    56.927133\n",
              "2021-01-08    64.044142\n",
              "Name: Close, Length: 657, dtype: float64"
            ]
          },
          "metadata": {
            "tags": []
          },
          "execution_count": 25
        }
      ]
    },
    {
      "cell_type": "code",
      "metadata": {
        "id": "-AOc4qy7qLYQ"
      },
      "source": [
        "msft_dpc = (msft['Close']/msft['Close'].shift(1)-1)*100\n",
        "msft_dpc.iloc[0]=0\n",
        "msft_dpc_cs = msft_dpc.cumsum()"
      ],
      "execution_count": null,
      "outputs": []
    },
    {
      "cell_type": "code",
      "metadata": {
        "colab": {
          "base_uri": "https://localhost:8080/",
          "height": 263
        },
        "id": "kj2l6Z3TqA-n",
        "outputId": "17111b87-53ae-4c0b-e114-14a8f714f94d"
      },
      "source": [
        "plt.plot(sec.index,sec_dpc_cs , 'b', label='Samsung Electronis')\n",
        "plt.plot(msft.index, msft_dpc_cs ,'r--', label='MS')\n",
        "plt.ylabel('Change %')\n",
        "plt.grid(True)\n",
        "plt.legend(loc='best')\n",
        "plt.show()"
      ],
      "execution_count": null,
      "outputs": [
        {
          "output_type": "display_data",
          "data": {
            "image/png": "[encoded data removed]",
            "text/plain": [
              "<Figure size 432x288 with 1 Axes>"
            ]
          },
          "metadata": {
            "tags": [],
            "needs_background": "light"
          }
        }
      ]
    },
    {
      "cell_type": "code",
      "metadata": {
        "colab": {
          "base_uri": "https://localhost:8080/"
        },
        "id": "BrHX4ccTqe2q",
        "outputId": "d7d93ba1-403d-4570-9167-1e765447ef40"
      },
      "source": [
        "kospi = pdr.get_data_yahoo('^KS11','2004-01-04')"
      ],
      "execution_count": 3,
      "outputs": [
        {
          "output_type": "stream",
          "text": [
            "\r[*********************100%***********************]  1 of 1 completed\n"
          ],
          "name": "stdout"
        }
      ]
    },
    {
      "cell_type": "code",
      "metadata": {
        "colab": {
          "base_uri": "https://localhost:8080/",
          "height": 231
        },
        "id": "EfyHyYQOqryQ",
        "outputId": "33a0fb35-0240-4ead-a14d-f6472a284355"
      },
      "source": [
        "kospi.head()\n"
      ],
      "execution_count": null,
      "outputs": [
        {
          "output_type": "execute_result",
          "data": {
            "text/html": [
              "<div>\n",
              "<style scoped>\n",
              "    .dataframe tbody tr th:only-of-type {\n",
              "        vertical-align: middle;\n",
              "    }\n",
              "\n",
              "    .dataframe tbody tr th {\n",
              "        vertical-align: top;\n",
              "    }\n",
              "\n",
              "    .dataframe thead th {\n",
              "        text-align: right;\n",
              "    }\n",
              "</style>\n",
              "<table border=\"1\" class=\"dataframe\">\n",
              "  <thead>\n",
              "    <tr style=\"text-align: right;\">\n",
              "      <th></th>\n",
              "      <th>Open</th>\n",
              "      <th>High</th>\n",
              "      <th>Low</th>\n",
              "      <th>Close</th>\n",
              "      <th>Adj Close</th>\n",
              "      <th>Volume</th>\n",
              "    </tr>\n",
              "    <tr>\n",
              "      <th>Date</th>\n",
              "      <th></th>\n",
              "      <th></th>\n",
              "      <th></th>\n",
              "      <th></th>\n",
              "      <th></th>\n",
              "      <th></th>\n",
              "    </tr>\n",
              "  </thead>\n",
              "  <tbody>\n",
              "    <tr>\n",
              "      <th>2004-01-05</th>\n",
              "      <td>817.280029</td>\n",
              "      <td>825.429993</td>\n",
              "      <td>816.549988</td>\n",
              "      <td>824.099976</td>\n",
              "      <td>824.099976</td>\n",
              "      <td>408200</td>\n",
              "    </tr>\n",
              "    <tr>\n",
              "      <th>2004-01-06</th>\n",
              "      <td>831.260010</td>\n",
              "      <td>831.260010</td>\n",
              "      <td>819.530029</td>\n",
              "      <td>823.429993</td>\n",
              "      <td>823.429993</td>\n",
              "      <td>484000</td>\n",
              "    </tr>\n",
              "    <tr>\n",
              "      <th>2004-01-07</th>\n",
              "      <td>826.080017</td>\n",
              "      <td>831.070007</td>\n",
              "      <td>825.229980</td>\n",
              "      <td>827.070007</td>\n",
              "      <td>827.070007</td>\n",
              "      <td>404600</td>\n",
              "    </tr>\n",
              "    <tr>\n",
              "      <th>2004-01-08</th>\n",
              "      <td>831.099976</td>\n",
              "      <td>839.280029</td>\n",
              "      <td>824.150024</td>\n",
              "      <td>824.150024</td>\n",
              "      <td>824.150024</td>\n",
              "      <td>428800</td>\n",
              "    </tr>\n",
              "    <tr>\n",
              "      <th>2004-01-09</th>\n",
              "      <td>835.419983</td>\n",
              "      <td>849.500000</td>\n",
              "      <td>835.049988</td>\n",
              "      <td>845.270020</td>\n",
              "      <td>845.270020</td>\n",
              "      <td>543200</td>\n",
              "    </tr>\n",
              "  </tbody>\n",
              "</table>\n",
              "</div>"
            ],
            "text/plain": [
              "                  Open        High         Low       Close   Adj Close  Volume\n",
              "Date                                                                          \n",
              "2004-01-05  817.280029  825.429993  816.549988  824.099976  824.099976  408200\n",
              "2004-01-06  831.260010  831.260010  819.530029  823.429993  823.429993  484000\n",
              "2004-01-07  826.080017  831.070007  825.229980  827.070007  827.070007  404600\n",
              "2004-01-08  831.099976  839.280029  824.150024  824.150024  824.150024  428800\n",
              "2004-01-09  835.419983  849.500000  835.049988  845.270020  845.270020  543200"
            ]
          },
          "metadata": {
            "tags": []
          },
          "execution_count": 4
        }
      ]
    },
    {
      "cell_type": "code",
      "metadata": {
        "colab": {
          "base_uri": "https://localhost:8080/",
          "height": 291
        },
        "id": "jUsNXiETv4U6",
        "outputId": "eade631d-735c-410b-9450-0168dd274546"
      },
      "source": [
        "kospi.describe()"
      ],
      "execution_count": null,
      "outputs": [
        {
          "output_type": "execute_result",
          "data": {
            "text/html": [
              "<div>\n",
              "<style scoped>\n",
              "    .dataframe tbody tr th:only-of-type {\n",
              "        vertical-align: middle;\n",
              "    }\n",
              "\n",
              "    .dataframe tbody tr th {\n",
              "        vertical-align: top;\n",
              "    }\n",
              "\n",
              "    .dataframe thead th {\n",
              "        text-align: right;\n",
              "    }\n",
              "</style>\n",
              "<table border=\"1\" class=\"dataframe\">\n",
              "  <thead>\n",
              "    <tr style=\"text-align: right;\">\n",
              "      <th></th>\n",
              "      <th>Open</th>\n",
              "      <th>High</th>\n",
              "      <th>Low</th>\n",
              "      <th>Close</th>\n",
              "      <th>Adj Close</th>\n",
              "      <th>Volume</th>\n",
              "    </tr>\n",
              "  </thead>\n",
              "  <tbody>\n",
              "    <tr>\n",
              "      <th>count</th>\n",
              "      <td>4194.000000</td>\n",
              "      <td>4194.000000</td>\n",
              "      <td>4194.000000</td>\n",
              "      <td>4194.000000</td>\n",
              "      <td>4194.000000</td>\n",
              "      <td>4.194000e+03</td>\n",
              "    </tr>\n",
              "    <tr>\n",
              "      <th>mean</th>\n",
              "      <td>1794.189605</td>\n",
              "      <td>1803.618178</td>\n",
              "      <td>1785.972391</td>\n",
              "      <td>1793.432842</td>\n",
              "      <td>1793.432842</td>\n",
              "      <td>7.229229e+05</td>\n",
              "    </tr>\n",
              "    <tr>\n",
              "      <th>std</th>\n",
              "      <td>438.516638</td>\n",
              "      <td>438.973511</td>\n",
              "      <td>512.481134</td>\n",
              "      <td>438.401820</td>\n",
              "      <td>438.401820</td>\n",
              "      <td>1.008626e+07</td>\n",
              "    </tr>\n",
              "    <tr>\n",
              "      <th>min</th>\n",
              "      <td>719.609985</td>\n",
              "      <td>728.130005</td>\n",
              "      <td>713.989990</td>\n",
              "      <td>719.590027</td>\n",
              "      <td>719.590027</td>\n",
              "      <td>0.000000e+00</td>\n",
              "    </tr>\n",
              "    <tr>\n",
              "      <th>25%</th>\n",
              "      <td>1512.704987</td>\n",
              "      <td>1529.395020</td>\n",
              "      <td>1504.462494</td>\n",
              "      <td>1512.797485</td>\n",
              "      <td>1512.797485</td>\n",
              "      <td>3.024500e+05</td>\n",
              "    </tr>\n",
              "    <tr>\n",
              "      <th>50%</th>\n",
              "      <td>1933.449951</td>\n",
              "      <td>1940.600037</td>\n",
              "      <td>1920.225037</td>\n",
              "      <td>1931.445007</td>\n",
              "      <td>1931.445007</td>\n",
              "      <td>3.759000e+05</td>\n",
              "    </tr>\n",
              "    <tr>\n",
              "      <th>75%</th>\n",
              "      <td>2057.040039</td>\n",
              "      <td>2065.352417</td>\n",
              "      <td>2046.135010</td>\n",
              "      <td>2055.709961</td>\n",
              "      <td>2055.709961</td>\n",
              "      <td>4.757500e+05</td>\n",
              "    </tr>\n",
              "    <tr>\n",
              "      <th>max</th>\n",
              "      <td>3040.110107</td>\n",
              "      <td>3161.110107</td>\n",
              "      <td>19025.550781</td>\n",
              "      <td>3152.179932</td>\n",
              "      <td>3152.179932</td>\n",
              "      <td>4.071570e+08</td>\n",
              "    </tr>\n",
              "  </tbody>\n",
              "</table>\n",
              "</div>"
            ],
            "text/plain": [
              "              Open         High  ...    Adj Close        Volume\n",
              "count  4194.000000  4194.000000  ...  4194.000000  4.194000e+03\n",
              "mean   1794.189605  1803.618178  ...  1793.432842  7.229229e+05\n",
              "std     438.516638   438.973511  ...   438.401820  1.008626e+07\n",
              "min     719.609985   728.130005  ...   719.590027  0.000000e+00\n",
              "25%    1512.704987  1529.395020  ...  1512.797485  3.024500e+05\n",
              "50%    1933.449951  1940.600037  ...  1931.445007  3.759000e+05\n",
              "75%    2057.040039  2065.352417  ...  2055.709961  4.757500e+05\n",
              "max    3040.110107  3161.110107  ...  3152.179932  4.071570e+08\n",
              "\n",
              "[8 rows x 6 columns]"
            ]
          },
          "metadata": {
            "tags": []
          },
          "execution_count": 8
        }
      ]
    },
    {
      "cell_type": "code",
      "metadata": {
        "id": "yikTHxTOqsis"
      },
      "source": [
        "window=252\n",
        "peak  = kospi['Adj Close'].rolling(window,min_periods=1).max()\n",
        "drawdown = kospi['Adj Close']/peak -1.0\n",
        "max_dd = drawdown.rolling(window,min_periods=1).min()"
      ],
      "execution_count": null,
      "outputs": []
    },
    {
      "cell_type": "code",
      "metadata": {
        "colab": {
          "base_uri": "https://localhost:8080/"
        },
        "id": "jzk0ikFpvz1Y",
        "outputId": "1833d647-0560-4f9d-d715-43a5f63820ed"
      },
      "source": [
        "peak"
      ],
      "execution_count": null,
      "outputs": [
        {
          "output_type": "execute_result",
          "data": {
            "text/plain": [
              "Date\n",
              "2004-01-05     824.099976\n",
              "2004-01-06     824.099976\n",
              "2004-01-07     827.070007\n",
              "2004-01-08     827.070007\n",
              "2004-01-09     845.270020\n",
              "                 ...     \n",
              "2021-01-04    2944.449951\n",
              "2021-01-05    2990.570068\n",
              "2021-01-06    2990.570068\n",
              "2021-01-07    3031.679932\n",
              "2021-01-08    3152.179932\n",
              "Name: Adj Close, Length: 4194, dtype: float64"
            ]
          },
          "metadata": {
            "tags": []
          },
          "execution_count": 7
        }
      ]
    },
    {
      "cell_type": "code",
      "metadata": {
        "colab": {
          "base_uri": "https://localhost:8080/"
        },
        "id": "QjVlw6AOv2pY",
        "outputId": "e7acaa1f-5c37-4c1a-aeed-421a188814da"
      },
      "source": [
        "drawdown"
      ],
      "execution_count": null,
      "outputs": [
        {
          "output_type": "execute_result",
          "data": {
            "text/plain": [
              "Date\n",
              "2004-01-05    0.000000\n",
              "2004-01-06   -0.000813\n",
              "2004-01-07    0.000000\n",
              "2004-01-08   -0.003531\n",
              "2004-01-09    0.000000\n",
              "                ...   \n",
              "2021-01-04    0.000000\n",
              "2021-01-05    0.000000\n",
              "2021-01-06   -0.007477\n",
              "2021-01-07    0.000000\n",
              "2021-01-08    0.000000\n",
              "Name: Adj Close, Length: 4194, dtype: float64"
            ]
          },
          "metadata": {
            "tags": []
          },
          "execution_count": 9
        }
      ]
    },
    {
      "cell_type": "code",
      "metadata": {
        "colab": {
          "base_uri": "https://localhost:8080/"
        },
        "id": "8d5TqMOEv_fV",
        "outputId": "6efa9ff0-7171-4e6c-aeaf-d8228557ab65"
      },
      "source": [
        "max_dd"
      ],
      "execution_count": null,
      "outputs": [
        {
          "output_type": "execute_result",
          "data": {
            "text/plain": [
              "Date\n",
              "2004-01-05    0.000000\n",
              "2004-01-06   -0.000813\n",
              "2004-01-07   -0.000813\n",
              "2004-01-08   -0.003531\n",
              "2004-01-09   -0.003531\n",
              "                ...   \n",
              "2021-01-04   -0.357089\n",
              "2021-01-05   -0.357089\n",
              "2021-01-06   -0.357089\n",
              "2021-01-07   -0.357089\n",
              "2021-01-08   -0.357089\n",
              "Name: Adj Close, Length: 4194, dtype: float64"
            ]
          },
          "metadata": {
            "tags": []
          },
          "execution_count": 10
        }
      ]
    },
    {
      "cell_type": "code",
      "metadata": {
        "colab": {
          "base_uri": "https://localhost:8080/",
          "height": 430
        },
        "id": "Z_FmktLav_8W",
        "outputId": "5c5e84ee-e998-45c5-e659-7346afcf1baf"
      },
      "source": [
        "plt.figure(figsize=(4,7))\n",
        "plt.subplot(211)\n",
        "kospi['Close'].plot(label='KOSPI', title= 'KOSPI MDD', grid=True, legend=True)\n",
        "plt.subplot(212)\n",
        "drawdown.plot(c='blue',label ='KOSPI DD', grid=True,legend=True)\n",
        "max_dd.plot(c='red',label='KOSPI MDD',grid=True, legend=True)\n",
        "plt.show()"
      ],
      "execution_count": null,
      "outputs": [
        {
          "output_type": "display_data",
          "data": {
            "image/png": "[encoded data removed]",
            "text/plain": [
              "<Figure size 288x504 with 2 Axes>"
            ]
          },
          "metadata": {
            "tags": [],
            "needs_background": "light"
          }
        }
      ]
    },
    {
      "cell_type": "code",
      "metadata": {
        "colab": {
          "base_uri": "https://localhost:8080/"
        },
        "id": "Eyau_hQ1wgTb",
        "outputId": "c399f79b-df61-4819-fece-b350cfdc5fa2"
      },
      "source": [
        "max_dd.min()"
      ],
      "execution_count": null,
      "outputs": [
        {
          "output_type": "execute_result",
          "data": {
            "text/plain": [
              "-0.5453665130144085"
            ]
          },
          "metadata": {
            "tags": []
          },
          "execution_count": 14
        }
      ]
    },
    {
      "cell_type": "code",
      "metadata": {
        "colab": {
          "base_uri": "https://localhost:8080/"
        },
        "id": "JYlFzDTuw0Pi",
        "outputId": "a78a9399-2950-4330-8e9d-37e2d31ca7d6"
      },
      "source": [
        "max_dd[max_dd==-0.5453665130144085]"
      ],
      "execution_count": null,
      "outputs": [
        {
          "output_type": "execute_result",
          "data": {
            "text/plain": [
              "Date\n",
              "2008-10-24   -0.545367\n",
              "2008-10-27   -0.545367\n",
              "2008-10-28   -0.545367\n",
              "2008-10-29   -0.545367\n",
              "2008-10-30   -0.545367\n",
              "                ...   \n",
              "2009-10-16   -0.545367\n",
              "2009-10-19   -0.545367\n",
              "2009-10-20   -0.545367\n",
              "2009-10-21   -0.545367\n",
              "2009-10-22   -0.545367\n",
              "Name: Adj Close, Length: 252, dtype: float64"
            ]
          },
          "metadata": {
            "tags": []
          },
          "execution_count": 15
        }
      ]
    },
    {
      "cell_type": "code",
      "metadata": {
        "colab": {
          "base_uri": "https://localhost:8080/"
        },
        "id": "h5-PujgPw4w2",
        "outputId": "f2697508-f2cc-42ae-8407-d36b05062b78"
      },
      "source": [
        "yf.pdr_override()\n",
        "dow = pdr.get_data_yahoo('^DJI','2000-01-04')\n",
        "kospi = pdr.get_data_yahoo('^KS11','2000-01-04') "
      ],
      "execution_count": null,
      "outputs": [
        {
          "output_type": "stream",
          "text": [
            "[*********************100%***********************]  1 of 1 completed\n",
            "[*********************100%***********************]  1 of 1 completed\n"
          ],
          "name": "stdout"
        }
      ]
    },
    {
      "cell_type": "code",
      "metadata": {
        "colab": {
          "base_uri": "https://localhost:8080/",
          "height": 318
        },
        "id": "5jZ1XODbxUxx",
        "outputId": "60f1273e-e8b0-4f15-fe6e-e7c314bff726"
      },
      "source": [
        "plt.figure(figsize=(9,5))\n",
        "plt.plot(dow.index, dow.Close, 'r--',label='Dow Jones Industrial')\n",
        "plt.plot(kospi.index, kospi.Close, 'b', label='KOSPI')\n",
        "plt.grid(True)\n",
        "plt.legend(loc='best')\n",
        "plt.show()"
      ],
      "execution_count": null,
      "outputs": [
        {
          "output_type": "display_data",
          "data": {
            "image/png": "[encoded data removed]",
            "text/plain": [
              "<Figure size 648x360 with 1 Axes>"
            ]
          },
          "metadata": {
            "tags": [],
            "needs_background": "light"
          }
        }
      ]
    },
    {
      "cell_type": "code",
      "metadata": {
        "colab": {
          "base_uri": "https://localhost:8080/",
          "height": 318
        },
        "id": "FN5dP2QdxpeR",
        "outputId": "bf2505a2-af11-4f98-e202-f5d7e1c0a29e"
      },
      "source": [
        "d = (dow.Close / dow.Close.loc['2000-01-04'])*100\n",
        "k = (kospi.Close / kospi.Close.loc['2000-01-04'])*100\n",
        "\n",
        "plt.figure(figsize=(9,5))\n",
        "plt.plot(d.index,d,'r--', label='Dow Jones Industrial Average')\n",
        "plt.plot(k.index,k,'b',label='Kospi')\n",
        "plt.grid(True)\n",
        "plt.legend(loc='best')\n",
        "plt.show()"
      ],
      "execution_count": null,
      "outputs": [
        {
          "output_type": "display_data",
          "data": {
            "image/png": "[encoded data removed]",
            "text/plain": [
              "<Figure size 648x360 with 1 Axes>"
            ]
          },
          "metadata": {
            "tags": [],
            "needs_background": "light"
          }
        }
      ]
    },
    {
      "cell_type": "code",
      "metadata": {
        "colab": {
          "base_uri": "https://localhost:8080/"
        },
        "id": "T3OPR0nCy2GQ",
        "outputId": "d4489df2-bd97-4500-bb52-600682da153c"
      },
      "source": [
        "len(dow);len(kospi)"
      ],
      "execution_count": null,
      "outputs": [
        {
          "output_type": "execute_result",
          "data": {
            "text/plain": [
              "5174"
            ]
          },
          "metadata": {
            "tags": []
          },
          "execution_count": 22
        }
      ]
    },
    {
      "cell_type": "code",
      "metadata": {
        "colab": {
          "base_uri": "https://localhost:8080/",
          "height": 550
        },
        "id": "mZ1Gfdx-y7F2",
        "outputId": "0c5e8767-0caf-4da1-c45a-18101cf5d742"
      },
      "source": [
        "plt.scatter(dow,kospi,marker='.')"
      ],
      "execution_count": null,
      "outputs": [
        {
          "output_type": "error",
          "ename": "ValueError",
          "evalue": "ignored",
          "traceback": [
            "\u001b[0;31m---------------------------------------------------------------------------\u001b[0m",
            "\u001b[0;31mValueError\u001b[0m                                Traceback (most recent call last)",
            "\u001b[0;32m<ipython-input-23-152442f56e61>\u001b[0m in \u001b[0;36m<module>\u001b[0;34m()\u001b[0m\n\u001b[0;32m----> 1\u001b[0;31m \u001b[0mplt\u001b[0m\u001b[0;34m.\u001b[0m\u001b[0mscatter\u001b[0m\u001b[0;34m(\u001b[0m\u001b[0mdow\u001b[0m\u001b[0;34m,\u001b[0m\u001b[0mkospi\u001b[0m\u001b[0;34m,\u001b[0m\u001b[0mmarker\u001b[0m\u001b[0;34m=\u001b[0m\u001b[0;34m'.'\u001b[0m\u001b[0;34m)\u001b[0m\u001b[0;34m\u001b[0m\u001b[0;34m\u001b[0m\u001b[0m\n\u001b[0m",
            "\u001b[0;32m/usr/local/lib/python3.6/dist-packages/matplotlib/pyplot.py\u001b[0m in \u001b[0;36mscatter\u001b[0;34m(x, y, s, c, marker, cmap, norm, vmin, vmax, alpha, linewidths, verts, edgecolors, plotnonfinite, data, **kwargs)\u001b[0m\n\u001b[1;32m   2814\u001b[0m         \u001b[0mverts\u001b[0m\u001b[0;34m=\u001b[0m\u001b[0mverts\u001b[0m\u001b[0;34m,\u001b[0m \u001b[0medgecolors\u001b[0m\u001b[0;34m=\u001b[0m\u001b[0medgecolors\u001b[0m\u001b[0;34m,\u001b[0m\u001b[0;34m\u001b[0m\u001b[0;34m\u001b[0m\u001b[0m\n\u001b[1;32m   2815\u001b[0m         plotnonfinite=plotnonfinite, **({\"data\": data} if data is not\n\u001b[0;32m-> 2816\u001b[0;31m         None else {}), **kwargs)\n\u001b[0m\u001b[1;32m   2817\u001b[0m     \u001b[0msci\u001b[0m\u001b[0;34m(\u001b[0m\u001b[0m__ret\u001b[0m\u001b[0;34m)\u001b[0m\u001b[0;34m\u001b[0m\u001b[0;34m\u001b[0m\u001b[0m\n\u001b[1;32m   2818\u001b[0m     \u001b[0;32mreturn\u001b[0m \u001b[0m__ret\u001b[0m\u001b[0;34m\u001b[0m\u001b[0;34m\u001b[0m\u001b[0m\n",
            "\u001b[0;32m/usr/local/lib/python3.6/dist-packages/matplotlib/__init__.py\u001b[0m in \u001b[0;36minner\u001b[0;34m(ax, data, *args, **kwargs)\u001b[0m\n\u001b[1;32m   1563\u001b[0m     \u001b[0;32mdef\u001b[0m \u001b[0minner\u001b[0m\u001b[0;34m(\u001b[0m\u001b[0max\u001b[0m\u001b[0;34m,\u001b[0m \u001b[0;34m*\u001b[0m\u001b[0margs\u001b[0m\u001b[0;34m,\u001b[0m \u001b[0mdata\u001b[0m\u001b[0;34m=\u001b[0m\u001b[0;32mNone\u001b[0m\u001b[0;34m,\u001b[0m \u001b[0;34m**\u001b[0m\u001b[0mkwargs\u001b[0m\u001b[0;34m)\u001b[0m\u001b[0;34m:\u001b[0m\u001b[0;34m\u001b[0m\u001b[0;34m\u001b[0m\u001b[0m\n\u001b[1;32m   1564\u001b[0m         \u001b[0;32mif\u001b[0m \u001b[0mdata\u001b[0m \u001b[0;32mis\u001b[0m \u001b[0;32mNone\u001b[0m\u001b[0;34m:\u001b[0m\u001b[0;34m\u001b[0m\u001b[0;34m\u001b[0m\u001b[0m\n\u001b[0;32m-> 1565\u001b[0;31m             \u001b[0;32mreturn\u001b[0m \u001b[0mfunc\u001b[0m\u001b[0;34m(\u001b[0m\u001b[0max\u001b[0m\u001b[0;34m,\u001b[0m \u001b[0;34m*\u001b[0m\u001b[0mmap\u001b[0m\u001b[0;34m(\u001b[0m\u001b[0msanitize_sequence\u001b[0m\u001b[0;34m,\u001b[0m \u001b[0margs\u001b[0m\u001b[0;34m)\u001b[0m\u001b[0;34m,\u001b[0m \u001b[0;34m**\u001b[0m\u001b[0mkwargs\u001b[0m\u001b[0;34m)\u001b[0m\u001b[0;34m\u001b[0m\u001b[0;34m\u001b[0m\u001b[0m\n\u001b[0m\u001b[1;32m   1566\u001b[0m \u001b[0;34m\u001b[0m\u001b[0m\n\u001b[1;32m   1567\u001b[0m         \u001b[0mbound\u001b[0m \u001b[0;34m=\u001b[0m \u001b[0mnew_sig\u001b[0m\u001b[0;34m.\u001b[0m\u001b[0mbind\u001b[0m\u001b[0;34m(\u001b[0m\u001b[0max\u001b[0m\u001b[0;34m,\u001b[0m \u001b[0;34m*\u001b[0m\u001b[0margs\u001b[0m\u001b[0;34m,\u001b[0m \u001b[0;34m**\u001b[0m\u001b[0mkwargs\u001b[0m\u001b[0;34m)\u001b[0m\u001b[0;34m\u001b[0m\u001b[0;34m\u001b[0m\u001b[0m\n",
            "\u001b[0;32m/usr/local/lib/python3.6/dist-packages/matplotlib/cbook/deprecation.py\u001b[0m in \u001b[0;36mwrapper\u001b[0;34m(*args, **kwargs)\u001b[0m\n\u001b[1;32m    356\u001b[0m                 \u001b[0;34mf\"%(removal)s.  If any parameter follows {name!r}, they \"\u001b[0m\u001b[0;34m\u001b[0m\u001b[0;34m\u001b[0m\u001b[0m\n\u001b[1;32m    357\u001b[0m                 f\"should be pass as keyword, not positionally.\")\n\u001b[0;32m--> 358\u001b[0;31m         \u001b[0;32mreturn\u001b[0m \u001b[0mfunc\u001b[0m\u001b[0;34m(\u001b[0m\u001b[0;34m*\u001b[0m\u001b[0margs\u001b[0m\u001b[0;34m,\u001b[0m \u001b[0;34m**\u001b[0m\u001b[0mkwargs\u001b[0m\u001b[0;34m)\u001b[0m\u001b[0;34m\u001b[0m\u001b[0;34m\u001b[0m\u001b[0m\n\u001b[0m\u001b[1;32m    359\u001b[0m \u001b[0;34m\u001b[0m\u001b[0m\n\u001b[1;32m    360\u001b[0m     \u001b[0;32mreturn\u001b[0m \u001b[0mwrapper\u001b[0m\u001b[0;34m\u001b[0m\u001b[0;34m\u001b[0m\u001b[0m\n",
            "\u001b[0;32m/usr/local/lib/python3.6/dist-packages/matplotlib/axes/_axes.py\u001b[0m in \u001b[0;36mscatter\u001b[0;34m(self, x, y, s, c, marker, cmap, norm, vmin, vmax, alpha, linewidths, verts, edgecolors, plotnonfinite, **kwargs)\u001b[0m\n\u001b[1;32m   4389\u001b[0m         \u001b[0my\u001b[0m \u001b[0;34m=\u001b[0m \u001b[0mnp\u001b[0m\u001b[0;34m.\u001b[0m\u001b[0mma\u001b[0m\u001b[0;34m.\u001b[0m\u001b[0mravel\u001b[0m\u001b[0;34m(\u001b[0m\u001b[0my\u001b[0m\u001b[0;34m)\u001b[0m\u001b[0;34m\u001b[0m\u001b[0;34m\u001b[0m\u001b[0m\n\u001b[1;32m   4390\u001b[0m         \u001b[0;32mif\u001b[0m \u001b[0mx\u001b[0m\u001b[0;34m.\u001b[0m\u001b[0msize\u001b[0m \u001b[0;34m!=\u001b[0m \u001b[0my\u001b[0m\u001b[0;34m.\u001b[0m\u001b[0msize\u001b[0m\u001b[0;34m:\u001b[0m\u001b[0;34m\u001b[0m\u001b[0;34m\u001b[0m\u001b[0m\n\u001b[0;32m-> 4391\u001b[0;31m             \u001b[0;32mraise\u001b[0m \u001b[0mValueError\u001b[0m\u001b[0;34m(\u001b[0m\u001b[0;34m\"x and y must be the same size\"\u001b[0m\u001b[0;34m)\u001b[0m\u001b[0;34m\u001b[0m\u001b[0;34m\u001b[0m\u001b[0m\n\u001b[0m\u001b[1;32m   4392\u001b[0m \u001b[0;34m\u001b[0m\u001b[0m\n\u001b[1;32m   4393\u001b[0m         \u001b[0;32mif\u001b[0m \u001b[0ms\u001b[0m \u001b[0;32mis\u001b[0m \u001b[0;32mNone\u001b[0m\u001b[0;34m:\u001b[0m\u001b[0;34m\u001b[0m\u001b[0;34m\u001b[0m\u001b[0m\n",
            "\u001b[0;31mValueError\u001b[0m: x and y must be the same size"
          ]
        },
        {
          "output_type": "display_data",
          "data": {
            "image/png": "[encoded data removed]",
            "text/plain": [
              "<Figure size 432x288 with 1 Axes>"
            ]
          },
          "metadata": {
            "tags": [],
            "needs_background": "light"
          }
        }
      ]
    },
    {
      "cell_type": "code",
      "metadata": {
        "id": "2FkhZl8ly9wo"
      },
      "source": [
        "import pandas as pd\n",
        "df = pd.DataFrame({'DOW':dow['Close'], 'KOSPI':kospi['Close']})"
      ],
      "execution_count": null,
      "outputs": []
    },
    {
      "cell_type": "code",
      "metadata": {
        "colab": {
          "base_uri": "https://localhost:8080/",
          "height": 280
        },
        "id": "R00EPr4-zIZS",
        "outputId": "878fd404-05ab-4cfb-ca54-e2b56ba31974"
      },
      "source": [
        "plt.scatter(df['DOW'], df['KOSPI'], marker='.')"
      ],
      "execution_count": null,
      "outputs": [
        {
          "output_type": "execute_result",
          "data": {
            "text/plain": [
              "<matplotlib.collections.PathCollection at 0x7f5b7d795320>"
            ]
          },
          "metadata": {
            "tags": []
          },
          "execution_count": 26
        },
        {
          "output_type": "display_data",
          "data": {
            "image/png": "[encoded data removed]",
            "text/plain": [
              "<Figure size 432x288 with 1 Axes>"
            ]
          },
          "metadata": {
            "tags": [],
            "needs_background": "light"
          }
        }
      ]
    },
    {
      "cell_type": "code",
      "metadata": {
        "colab": {
          "base_uri": "https://localhost:8080/",
          "height": 291
        },
        "id": "5XbYpFkkzSYM",
        "outputId": "68dda905-3cef-4d83-ce72-c64d57cb3822"
      },
      "source": [
        "df.describe()"
      ],
      "execution_count": null,
      "outputs": [
        {
          "output_type": "execute_result",
          "data": {
            "text/html": [
              "<div>\n",
              "<style scoped>\n",
              "    .dataframe tbody tr th:only-of-type {\n",
              "        vertical-align: middle;\n",
              "    }\n",
              "\n",
              "    .dataframe tbody tr th {\n",
              "        vertical-align: top;\n",
              "    }\n",
              "\n",
              "    .dataframe thead th {\n",
              "        text-align: right;\n",
              "    }\n",
              "</style>\n",
              "<table border=\"1\" class=\"dataframe\">\n",
              "  <thead>\n",
              "    <tr style=\"text-align: right;\">\n",
              "      <th></th>\n",
              "      <th>DOW</th>\n",
              "      <th>KOSPI</th>\n",
              "    </tr>\n",
              "  </thead>\n",
              "  <tbody>\n",
              "    <tr>\n",
              "      <th>count</th>\n",
              "      <td>5288.000000</td>\n",
              "      <td>5174.000000</td>\n",
              "    </tr>\n",
              "    <tr>\n",
              "      <th>mean</th>\n",
              "      <td>14671.774014</td>\n",
              "      <td>1583.664387</td>\n",
              "    </tr>\n",
              "    <tr>\n",
              "      <th>std</th>\n",
              "      <td>5811.712059</td>\n",
              "      <td>588.901618</td>\n",
              "    </tr>\n",
              "    <tr>\n",
              "      <th>min</th>\n",
              "      <td>6547.049805</td>\n",
              "      <td>468.760010</td>\n",
              "    </tr>\n",
              "    <tr>\n",
              "      <th>25%</th>\n",
              "      <td>10456.735107</td>\n",
              "      <td>970.377518</td>\n",
              "    </tr>\n",
              "    <tr>\n",
              "      <th>50%</th>\n",
              "      <td>12345.714844</td>\n",
              "      <td>1822.394958</td>\n",
              "    </tr>\n",
              "    <tr>\n",
              "      <th>75%</th>\n",
              "      <td>17734.074707</td>\n",
              "      <td>2024.157532</td>\n",
              "    </tr>\n",
              "    <tr>\n",
              "      <th>max</th>\n",
              "      <td>31097.970703</td>\n",
              "      <td>3152.179932</td>\n",
              "    </tr>\n",
              "  </tbody>\n",
              "</table>\n",
              "</div>"
            ],
            "text/plain": [
              "                DOW        KOSPI\n",
              "count   5288.000000  5174.000000\n",
              "mean   14671.774014  1583.664387\n",
              "std     5811.712059   588.901618\n",
              "min     6547.049805   468.760010\n",
              "25%    10456.735107   970.377518\n",
              "50%    12345.714844  1822.394958\n",
              "75%    17734.074707  2024.157532\n",
              "max    31097.970703  3152.179932"
            ]
          },
          "metadata": {
            "tags": []
          },
          "execution_count": 27
        }
      ]
    },
    {
      "cell_type": "code",
      "metadata": {
        "colab": {
          "base_uri": "https://localhost:8080/"
        },
        "id": "uYqomXhyzVmW",
        "outputId": "eb3145fb-6189-4aa0-8e57-a72d82389fa6"
      },
      "source": [
        "len(df)"
      ],
      "execution_count": null,
      "outputs": [
        {
          "output_type": "execute_result",
          "data": {
            "text/plain": [
              "5445"
            ]
          },
          "metadata": {
            "tags": []
          },
          "execution_count": 28
        }
      ]
    },
    {
      "cell_type": "code",
      "metadata": {
        "id": "zNMlZAo_zWyp"
      },
      "source": [
        "df = df.fillna(method= 'bfill')"
      ],
      "execution_count": null,
      "outputs": []
    },
    {
      "cell_type": "code",
      "metadata": {
        "colab": {
          "base_uri": "https://localhost:8080/"
        },
        "id": "-4hOXvu-za8W",
        "outputId": "521c6d77-6aed-43d5-cefb-0bbb99a57465"
      },
      "source": [
        "len(df)"
      ],
      "execution_count": null,
      "outputs": [
        {
          "output_type": "execute_result",
          "data": {
            "text/plain": [
              "5445"
            ]
          },
          "metadata": {
            "tags": []
          },
          "execution_count": 30
        }
      ]
    },
    {
      "cell_type": "code",
      "metadata": {
        "colab": {
          "base_uri": "https://localhost:8080/",
          "height": 442
        },
        "id": "p9oix_4_zlED",
        "outputId": "89e02f71-e341-4ce1-91a1-00cb6456e73b"
      },
      "source": [
        "df"
      ],
      "execution_count": null,
      "outputs": [
        {
          "output_type": "execute_result",
          "data": {
            "text/html": [
              "<div>\n",
              "<style scoped>\n",
              "    .dataframe tbody tr th:only-of-type {\n",
              "        vertical-align: middle;\n",
              "    }\n",
              "\n",
              "    .dataframe tbody tr th {\n",
              "        vertical-align: top;\n",
              "    }\n",
              "\n",
              "    .dataframe thead th {\n",
              "        text-align: right;\n",
              "    }\n",
              "</style>\n",
              "<table border=\"1\" class=\"dataframe\">\n",
              "  <thead>\n",
              "    <tr style=\"text-align: right;\">\n",
              "      <th></th>\n",
              "      <th>DOW</th>\n",
              "      <th>KOSPI</th>\n",
              "    </tr>\n",
              "    <tr>\n",
              "      <th>Date</th>\n",
              "      <th></th>\n",
              "      <th></th>\n",
              "    </tr>\n",
              "  </thead>\n",
              "  <tbody>\n",
              "    <tr>\n",
              "      <th>2000-01-04</th>\n",
              "      <td>10997.929688</td>\n",
              "      <td>1059.040039</td>\n",
              "    </tr>\n",
              "    <tr>\n",
              "      <th>2000-01-05</th>\n",
              "      <td>11122.650391</td>\n",
              "      <td>986.309998</td>\n",
              "    </tr>\n",
              "    <tr>\n",
              "      <th>2000-01-06</th>\n",
              "      <td>11253.259766</td>\n",
              "      <td>960.789978</td>\n",
              "    </tr>\n",
              "    <tr>\n",
              "      <th>2000-01-07</th>\n",
              "      <td>11522.559570</td>\n",
              "      <td>948.650024</td>\n",
              "    </tr>\n",
              "    <tr>\n",
              "      <th>2000-01-10</th>\n",
              "      <td>11572.200195</td>\n",
              "      <td>987.239990</td>\n",
              "    </tr>\n",
              "    <tr>\n",
              "      <th>...</th>\n",
              "      <td>...</td>\n",
              "      <td>...</td>\n",
              "    </tr>\n",
              "    <tr>\n",
              "      <th>2021-01-04</th>\n",
              "      <td>30223.890625</td>\n",
              "      <td>2944.449951</td>\n",
              "    </tr>\n",
              "    <tr>\n",
              "      <th>2021-01-05</th>\n",
              "      <td>30391.599609</td>\n",
              "      <td>2990.570068</td>\n",
              "    </tr>\n",
              "    <tr>\n",
              "      <th>2021-01-06</th>\n",
              "      <td>30829.400391</td>\n",
              "      <td>2968.209961</td>\n",
              "    </tr>\n",
              "    <tr>\n",
              "      <th>2021-01-07</th>\n",
              "      <td>31041.130859</td>\n",
              "      <td>3031.679932</td>\n",
              "    </tr>\n",
              "    <tr>\n",
              "      <th>2021-01-08</th>\n",
              "      <td>31097.970703</td>\n",
              "      <td>3152.179932</td>\n",
              "    </tr>\n",
              "  </tbody>\n",
              "</table>\n",
              "<p>5445 rows × 2 columns</p>\n",
              "</div>"
            ],
            "text/plain": [
              "                     DOW        KOSPI\n",
              "Date                                 \n",
              "2000-01-04  10997.929688  1059.040039\n",
              "2000-01-05  11122.650391   986.309998\n",
              "2000-01-06  11253.259766   960.789978\n",
              "2000-01-07  11522.559570   948.650024\n",
              "2000-01-10  11572.200195   987.239990\n",
              "...                  ...          ...\n",
              "2021-01-04  30223.890625  2944.449951\n",
              "2021-01-05  30391.599609  2990.570068\n",
              "2021-01-06  30829.400391  2968.209961\n",
              "2021-01-07  31041.130859  3031.679932\n",
              "2021-01-08  31097.970703  3152.179932\n",
              "\n",
              "[5445 rows x 2 columns]"
            ]
          },
          "metadata": {
            "tags": []
          },
          "execution_count": 31
        }
      ]
    },
    {
      "cell_type": "code",
      "metadata": {
        "id": "ZhLLdG3RznWY"
      },
      "source": [
        "df = df.fillna(method='ffill')"
      ],
      "execution_count": null,
      "outputs": []
    },
    {
      "cell_type": "code",
      "metadata": {
        "colab": {
          "base_uri": "https://localhost:8080/",
          "height": 441
        },
        "id": "5h6Pf5Y0zrjB",
        "outputId": "fa665c08-fd2c-4bc6-d901-80977b0deba0"
      },
      "source": [
        "plt.figure(figsize=(7,7))\n",
        "plt.scatter(df['DOW'],df['KOSPI'], marker='.')\n",
        "plt.xlabel('DOW')\n",
        "plt.ylabel('KOSPI')\n",
        "plt.show()"
      ],
      "execution_count": null,
      "outputs": [
        {
          "output_type": "display_data",
          "data": {
            "image/png": "[encoded data removed]",
            "text/plain": [
              "<Figure size 504x504 with 1 Axes>"
            ]
          },
          "metadata": {
            "tags": [],
            "needs_background": "light"
          }
        }
      ]
    },
    {
      "cell_type": "code",
      "metadata": {
        "colab": {
          "base_uri": "https://localhost:8080/"
        },
        "id": "EVbwhSPJz2R9",
        "outputId": "fe367777-75ea-4587-e3a3-804c13b1cf29"
      },
      "source": [
        "!pip install scipy"
      ],
      "execution_count": 12,
      "outputs": [
        {
          "output_type": "stream",
          "text": [
            "Requirement already satisfied: scipy in /usr/local/lib/python3.6/dist-packages (1.4.1)\n",
            "Requirement already satisfied: numpy>=1.13.3 in /usr/local/lib/python3.6/dist-packages (from scipy) (1.19.4)\n"
          ],
          "name": "stdout"
        }
      ]
    },
    {
      "cell_type": "code",
      "metadata": {
        "colab": {
          "base_uri": "https://localhost:8080/"
        },
        "id": "WNkcdzjdz6PR",
        "outputId": "e2d302f3-7fcf-4215-a6b6-a385ef36986f"
      },
      "source": [
        "from scipy import stats\n",
        "regr = stats.linregress(df['DOW'], df['KOSPI'])\n",
        "regr"
      ],
      "execution_count": null,
      "outputs": [
        {
          "output_type": "execute_result",
          "data": {
            "text/plain": [
              "LinregressResult(slope=0.07708435952413942, intercept=454.91121964009653, rvalue=0.7584000488889079, pvalue=0.0, stderr=0.0008979579781926215)"
            ]
          },
          "metadata": {
            "tags": []
          },
          "execution_count": 36
        }
      ]
    },
    {
      "cell_type": "code",
      "metadata": {
        "colab": {
          "base_uri": "https://localhost:8080/",
          "height": 109
        },
        "id": "WiyxKPQC0Eb6",
        "outputId": "467ca2c3-9e4a-4ccf-d2c0-8626961f262a"
      },
      "source": [
        "df.corr()"
      ],
      "execution_count": null,
      "outputs": [
        {
          "output_type": "execute_result",
          "data": {
            "text/html": [
              "<div>\n",
              "<style scoped>\n",
              "    .dataframe tbody tr th:only-of-type {\n",
              "        vertical-align: middle;\n",
              "    }\n",
              "\n",
              "    .dataframe tbody tr th {\n",
              "        vertical-align: top;\n",
              "    }\n",
              "\n",
              "    .dataframe thead th {\n",
              "        text-align: right;\n",
              "    }\n",
              "</style>\n",
              "<table border=\"1\" class=\"dataframe\">\n",
              "  <thead>\n",
              "    <tr style=\"text-align: right;\">\n",
              "      <th></th>\n",
              "      <th>DOW</th>\n",
              "      <th>KOSPI</th>\n",
              "    </tr>\n",
              "  </thead>\n",
              "  <tbody>\n",
              "    <tr>\n",
              "      <th>DOW</th>\n",
              "      <td>1.0000</td>\n",
              "      <td>0.7584</td>\n",
              "    </tr>\n",
              "    <tr>\n",
              "      <th>KOSPI</th>\n",
              "      <td>0.7584</td>\n",
              "      <td>1.0000</td>\n",
              "    </tr>\n",
              "  </tbody>\n",
              "</table>\n",
              "</div>"
            ],
            "text/plain": [
              "          DOW   KOSPI\n",
              "DOW    1.0000  0.7584\n",
              "KOSPI  0.7584  1.0000"
            ]
          },
          "metadata": {
            "tags": []
          },
          "execution_count": 37
        }
      ]
    },
    {
      "cell_type": "code",
      "metadata": {
        "colab": {
          "base_uri": "https://localhost:8080/"
        },
        "id": "o2XqSAPq0M3F",
        "outputId": "8078cae3-0855-4316-c84e-3be727f367fd"
      },
      "source": [
        "df['DOW'].corr(df['KOSPI'])"
      ],
      "execution_count": null,
      "outputs": [
        {
          "output_type": "execute_result",
          "data": {
            "text/plain": [
              "0.7584000488889079"
            ]
          },
          "metadata": {
            "tags": []
          },
          "execution_count": 38
        }
      ]
    },
    {
      "cell_type": "code",
      "metadata": {
        "id": "os8nuQYm0P8U"
      },
      "source": [
        "r_value = df['DOW'].corr(df['KOSPI'])"
      ],
      "execution_count": null,
      "outputs": []
    },
    {
      "cell_type": "code",
      "metadata": {
        "id": "t3f8L1Fh0ZdN"
      },
      "source": [
        "r_squared = r_value ** 2"
      ],
      "execution_count": null,
      "outputs": []
    },
    {
      "cell_type": "code",
      "metadata": {
        "colab": {
          "base_uri": "https://localhost:8080/"
        },
        "id": "ioeSR0wo0bTR",
        "outputId": "f429e45b-be67-4e72-e1d3-d36eb705df12"
      },
      "source": [
        "regr = stats.linregress(df['DOW'],df['KOSPI'])\n",
        "regr"
      ],
      "execution_count": null,
      "outputs": [
        {
          "output_type": "execute_result",
          "data": {
            "text/plain": [
              "LinregressResult(slope=0.07708435952413942, intercept=454.91121964009653, rvalue=0.7584000488889079, pvalue=0.0, stderr=0.0008979579781926215)"
            ]
          },
          "metadata": {
            "tags": []
          },
          "execution_count": 43
        }
      ]
    },
    {
      "cell_type": "code",
      "metadata": {
        "id": "y9198lIe0lPX"
      },
      "source": [
        "regr_line = f'Y={regr.slope:.2f}* X + {regr.intercept:.2f}'"
      ],
      "execution_count": null,
      "outputs": []
    },
    {
      "cell_type": "code",
      "metadata": {
        "colab": {
          "base_uri": "https://localhost:8080/",
          "height": 456
        },
        "id": "l_f3KI630rry",
        "outputId": "f6b2bb88-8d05-4d1e-ec14-2e6c533d3642"
      },
      "source": [
        "plt.figure(figsize=(7,7))\n",
        "plt.plot(df['DOW'],df['KOSPI'],'.')\n",
        "plt.plot(df['DOW'], regr.slope * df['DOW'] + regr.intercept,'r')\n",
        "plt.legend(['DOW X KOSPI', regr_line])\n",
        "plt.title(f'DOW X KOSPI (R = {regr.rvalue : .2f})')\n",
        "plt.xlabel('DOW JONES')\n",
        "plt.ylabel('KOSPI')\n",
        "plt.show()"
      ],
      "execution_count": null,
      "outputs": [
        {
          "output_type": "display_data",
          "data": {
            "image/png": "[encoded data removed]",
            "text/plain": [
              "<Figure size 504x504 with 1 Axes>"
            ]
          },
          "metadata": {
            "tags": [],
            "needs_background": "light"
          }
        }
      ]
    },
    {
      "cell_type": "code",
      "metadata": {
        "colab": {
          "base_uri": "https://localhost:8080/"
        },
        "id": "XOe_cp4g1U4c",
        "outputId": "94430b29-74aa-4043-a1a9-d238c223fac0"
      },
      "source": [
        "yf.pdr_override()\n",
        "tlt = pdr.get_data_yahoo('TLT','2002-07-03')"
      ],
      "execution_count": 4,
      "outputs": [
        {
          "output_type": "stream",
          "text": [
            "\r[*********************100%***********************]  1 of 1 completed\n"
          ],
          "name": "stdout"
        }
      ]
    },
    {
      "cell_type": "code",
      "metadata": {
        "id": "1lk1P2aQ17PO",
        "colab": {
          "base_uri": "https://localhost:8080/",
          "height": 231
        },
        "outputId": "6951ed83-382a-413b-b30a-6922774ce3b3"
      },
      "source": [
        "tlt.head()"
      ],
      "execution_count": 5,
      "outputs": [
        {
          "output_type": "execute_result",
          "data": {
            "text/html": [
              "<div>\n",
              "<style scoped>\n",
              "    .dataframe tbody tr th:only-of-type {\n",
              "        vertical-align: middle;\n",
              "    }\n",
              "\n",
              "    .dataframe tbody tr th {\n",
              "        vertical-align: top;\n",
              "    }\n",
              "\n",
              "    .dataframe thead th {\n",
              "        text-align: right;\n",
              "    }\n",
              "</style>\n",
              "<table border=\"1\" class=\"dataframe\">\n",
              "  <thead>\n",
              "    <tr style=\"text-align: right;\">\n",
              "      <th></th>\n",
              "      <th>Open</th>\n",
              "      <th>High</th>\n",
              "      <th>Low</th>\n",
              "      <th>Close</th>\n",
              "      <th>Adj Close</th>\n",
              "      <th>Volume</th>\n",
              "    </tr>\n",
              "    <tr>\n",
              "      <th>Date</th>\n",
              "      <th></th>\n",
              "      <th></th>\n",
              "      <th></th>\n",
              "      <th></th>\n",
              "      <th></th>\n",
              "      <th></th>\n",
              "    </tr>\n",
              "  </thead>\n",
              "  <tbody>\n",
              "    <tr>\n",
              "      <th>2002-07-30</th>\n",
              "      <td>81.750000</td>\n",
              "      <td>81.900002</td>\n",
              "      <td>81.519997</td>\n",
              "      <td>81.519997</td>\n",
              "      <td>42.858082</td>\n",
              "      <td>6100</td>\n",
              "    </tr>\n",
              "    <tr>\n",
              "      <th>2002-07-31</th>\n",
              "      <td>81.949997</td>\n",
              "      <td>82.800003</td>\n",
              "      <td>81.900002</td>\n",
              "      <td>82.529999</td>\n",
              "      <td>43.389084</td>\n",
              "      <td>29400</td>\n",
              "    </tr>\n",
              "    <tr>\n",
              "      <th>2002-08-01</th>\n",
              "      <td>82.540001</td>\n",
              "      <td>83.019997</td>\n",
              "      <td>82.540001</td>\n",
              "      <td>83.000000</td>\n",
              "      <td>43.636154</td>\n",
              "      <td>25000</td>\n",
              "    </tr>\n",
              "    <tr>\n",
              "      <th>2002-08-02</th>\n",
              "      <td>83.160004</td>\n",
              "      <td>84.099998</td>\n",
              "      <td>82.879997</td>\n",
              "      <td>83.849998</td>\n",
              "      <td>44.083084</td>\n",
              "      <td>52800</td>\n",
              "    </tr>\n",
              "    <tr>\n",
              "      <th>2002-08-05</th>\n",
              "      <td>84.040001</td>\n",
              "      <td>84.440002</td>\n",
              "      <td>83.849998</td>\n",
              "      <td>84.220001</td>\n",
              "      <td>44.277576</td>\n",
              "      <td>61100</td>\n",
              "    </tr>\n",
              "  </tbody>\n",
              "</table>\n",
              "</div>"
            ],
            "text/plain": [
              "                 Open       High        Low      Close  Adj Close  Volume\n",
              "Date                                                                     \n",
              "2002-07-30  81.750000  81.900002  81.519997  81.519997  42.858082    6100\n",
              "2002-07-31  81.949997  82.800003  81.900002  82.529999  43.389084   29400\n",
              "2002-08-01  82.540001  83.019997  82.540001  83.000000  43.636154   25000\n",
              "2002-08-02  83.160004  84.099998  82.879997  83.849998  44.083084   52800\n",
              "2002-08-05  84.040001  84.440002  83.849998  84.220001  44.277576   61100"
            ]
          },
          "metadata": {
            "tags": []
          },
          "execution_count": 5
        }
      ]
    },
    {
      "cell_type": "code",
      "metadata": {
        "id": "m4kjqxJz19RI"
      },
      "source": [
        "\n",
        "df = pd.DataFrame({'TLT':tlt['Close'], 'KOSPI':kospi['Close']})\n",
        "df = df.fillna(method='bfill')\n",
        "df = df.fillna(method='ffill')"
      ],
      "execution_count": 18,
      "outputs": []
    },
    {
      "cell_type": "code",
      "metadata": {
        "id": "6oIbQRsa2A4Y",
        "colab": {
          "base_uri": "https://localhost:8080/",
          "height": 456
        },
        "outputId": "7b80cb56-49ff-413f-b4cd-8145fc46406d"
      },
      "source": [
        "\n",
        "plt.figure(figsize=(7,7))\n",
        "plt.plot(df['TLT'],df['KOSPI'],'.')\n",
        "\n",
        "regr = stats.linregress(df['TLT'],df['KOSPI'])\n",
        "regr_line = f'Y={regr.slope:.2f}* X + {regr.intercept:.2f}'\n",
        "plt.plot(df['TLT'], regr.slope * df['TLT'] + regr.intercept,'r')\n",
        "plt.legend(['TLT X KOSPI', regr_line])\n",
        "plt.title(f'TLT X KOSPI (R = {regr.rvalue : .2f})')\n",
        "plt.xlabel('TLT')\n",
        "plt.ylabel('KOSPI')\n",
        "plt.show()"
      ],
      "execution_count": 19,
      "outputs": [
        {
          "output_type": "display_data",
          "data": {
            "image/png": "[encoded data removed]",
            "text/plain": [
              "<Figure size 504x504 with 1 Axes>"
            ]
          },
          "metadata": {
            "tags": [],
            "needs_background": "light"
          }
        }
      ]
    },
    {
      "cell_type": "code",
      "metadata": {
        "colab": {
          "base_uri": "https://localhost:8080/",
          "height": 201
        },
        "id": "DFP-UvLC2nW1",
        "outputId": "ecceca31-130f-489b-c36a-92631c540fcd"
      },
      "source": [
        "s1 = pd.Series([+10,-20,+30,-40,+50])\n",
        "s2= pd.Series([+1,-2,+3,-4,+5])\n",
        "s3= pd.Series([-10,+20,-30,+40,-50])\n",
        "\n",
        "df= pd.DataFrame({'S1':s1, 'S2':s2, 'S3':s3})\n",
        "df"
      ],
      "execution_count": 20,
      "outputs": [
        {
          "output_type": "execute_result",
          "data": {
            "text/html": [
              "<div>\n",
              "<style scoped>\n",
              "    .dataframe tbody tr th:only-of-type {\n",
              "        vertical-align: middle;\n",
              "    }\n",
              "\n",
              "    .dataframe tbody tr th {\n",
              "        vertical-align: top;\n",
              "    }\n",
              "\n",
              "    .dataframe thead th {\n",
              "        text-align: right;\n",
              "    }\n",
              "</style>\n",
              "<table border=\"1\" class=\"dataframe\">\n",
              "  <thead>\n",
              "    <tr style=\"text-align: right;\">\n",
              "      <th></th>\n",
              "      <th>S1</th>\n",
              "      <th>S2</th>\n",
              "      <th>S3</th>\n",
              "    </tr>\n",
              "  </thead>\n",
              "  <tbody>\n",
              "    <tr>\n",
              "      <th>0</th>\n",
              "      <td>10</td>\n",
              "      <td>1</td>\n",
              "      <td>-10</td>\n",
              "    </tr>\n",
              "    <tr>\n",
              "      <th>1</th>\n",
              "      <td>-20</td>\n",
              "      <td>-2</td>\n",
              "      <td>20</td>\n",
              "    </tr>\n",
              "    <tr>\n",
              "      <th>2</th>\n",
              "      <td>30</td>\n",
              "      <td>3</td>\n",
              "      <td>-30</td>\n",
              "    </tr>\n",
              "    <tr>\n",
              "      <th>3</th>\n",
              "      <td>-40</td>\n",
              "      <td>-4</td>\n",
              "      <td>40</td>\n",
              "    </tr>\n",
              "    <tr>\n",
              "      <th>4</th>\n",
              "      <td>50</td>\n",
              "      <td>5</td>\n",
              "      <td>-50</td>\n",
              "    </tr>\n",
              "  </tbody>\n",
              "</table>\n",
              "</div>"
            ],
            "text/plain": [
              "   S1  S2  S3\n",
              "0  10   1 -10\n",
              "1 -20  -2  20\n",
              "2  30   3 -30\n",
              "3 -40  -4  40\n",
              "4  50   5 -50"
            ]
          },
          "metadata": {
            "tags": []
          },
          "execution_count": 20
        }
      ]
    },
    {
      "cell_type": "code",
      "metadata": {
        "colab": {
          "base_uri": "https://localhost:8080/",
          "height": 140
        },
        "id": "Rmw5uz0N4FCs",
        "outputId": "13fee10f-4cb8-4189-8b71-9a91d75e2850"
      },
      "source": [
        "df.corr()"
      ],
      "execution_count": 21,
      "outputs": [
        {
          "output_type": "execute_result",
          "data": {
            "text/html": [
              "<div>\n",
              "<style scoped>\n",
              "    .dataframe tbody tr th:only-of-type {\n",
              "        vertical-align: middle;\n",
              "    }\n",
              "\n",
              "    .dataframe tbody tr th {\n",
              "        vertical-align: top;\n",
              "    }\n",
              "\n",
              "    .dataframe thead th {\n",
              "        text-align: right;\n",
              "    }\n",
              "</style>\n",
              "<table border=\"1\" class=\"dataframe\">\n",
              "  <thead>\n",
              "    <tr style=\"text-align: right;\">\n",
              "      <th></th>\n",
              "      <th>S1</th>\n",
              "      <th>S2</th>\n",
              "      <th>S3</th>\n",
              "    </tr>\n",
              "  </thead>\n",
              "  <tbody>\n",
              "    <tr>\n",
              "      <th>S1</th>\n",
              "      <td>1.0</td>\n",
              "      <td>1.0</td>\n",
              "      <td>-1.0</td>\n",
              "    </tr>\n",
              "    <tr>\n",
              "      <th>S2</th>\n",
              "      <td>1.0</td>\n",
              "      <td>1.0</td>\n",
              "      <td>-1.0</td>\n",
              "    </tr>\n",
              "    <tr>\n",
              "      <th>S3</th>\n",
              "      <td>-1.0</td>\n",
              "      <td>-1.0</td>\n",
              "      <td>1.0</td>\n",
              "    </tr>\n",
              "  </tbody>\n",
              "</table>\n",
              "</div>"
            ],
            "text/plain": [
              "     S1   S2   S3\n",
              "S1  1.0  1.0 -1.0\n",
              "S2  1.0  1.0 -1.0\n",
              "S3 -1.0 -1.0  1.0"
            ]
          },
          "metadata": {
            "tags": []
          },
          "execution_count": 21
        }
      ]
    },
    {
      "cell_type": "code",
      "metadata": {
        "id": "lCBZHhF14G13"
      },
      "source": [
        ""
      ],
      "execution_count": null,
      "outputs": []
    }
  ]
}